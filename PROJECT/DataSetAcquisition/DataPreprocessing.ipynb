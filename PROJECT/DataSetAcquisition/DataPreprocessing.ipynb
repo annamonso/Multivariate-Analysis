{
 "cells": [
  {
   "cell_type": "markdown",
   "metadata": {},
   "source": [
    "# 1. Load the Scrapped Data"
   ]
  },
  {
   "cell_type": "code",
   "execution_count": 1,
   "metadata": {},
   "outputs": [
    {
     "name": "stdout",
     "output_type": "stream",
     "text": [
      "(5552, 153)\n"
     ]
    },
    {
     "name": "stderr",
     "output_type": "stream",
     "text": [
      "C:\\Users\\joana\\AppData\\Local\\Temp\\ipykernel_1928\\2973681463.py:3: DtypeWarning: Columns (8,9,11,12,23,102) have mixed types. Specify dtype option on import or set low_memory=False.\n",
      "  df = pd.read_csv('empresas.csv')\n"
     ]
    }
   ],
   "source": [
    "import pandas as pd\n",
    "\n",
    "df = pd.read_csv('empresas.csv')\n",
    "print(df.shape)"
   ]
  },
  {
   "cell_type": "markdown",
   "metadata": {},
   "source": [
    "# 2. Preprocess Data"
   ]
  },
  {
   "cell_type": "markdown",
   "metadata": {},
   "source": [
    "## Retain the most interesting varaibles for our analysis purposes"
   ]
  },
  {
   "cell_type": "code",
   "execution_count": 2,
   "metadata": {},
   "outputs": [
    {
     "name": "stdout",
     "output_type": "stream",
     "text": [
      "(5552, 15)\n"
     ]
    }
   ],
   "source": [
    "df = df[['shortName','country','state','sector','overallRisk','dividendRate','marketCap','enterpriseValue','profitMargins','recommendationKey','totalCash','totalCashPerShare','totalDebt','totalRevenue','revenueGrowth']]\n",
    "print(df.shape)\n"
   ]
  },
  {
   "cell_type": "markdown",
   "metadata": {},
   "source": [
    "## Focus on companies from the USA."
   ]
  },
  {
   "cell_type": "code",
   "execution_count": 3,
   "metadata": {},
   "outputs": [
    {
     "name": "stdout",
     "output_type": "stream",
     "text": [
      "(1064, 14)\n"
     ]
    }
   ],
   "source": [
    "df = df[df['country'] == 'United States']\n",
    "df = df.drop(columns=['country'])\n",
    "print(df.shape)"
   ]
  },
  {
   "cell_type": "markdown",
   "metadata": {},
   "source": [
    "## Delete redundant data"
   ]
  },
  {
   "cell_type": "code",
   "execution_count": 4,
   "metadata": {},
   "outputs": [
    {
     "name": "stdout",
     "output_type": "stream",
     "text": [
      "(666, 14)\n"
     ]
    },
    {
     "data": {
      "text/html": [
       "<div>\n",
       "<style scoped>\n",
       "    .dataframe tbody tr th:only-of-type {\n",
       "        vertical-align: middle;\n",
       "    }\n",
       "\n",
       "    .dataframe tbody tr th {\n",
       "        vertical-align: top;\n",
       "    }\n",
       "\n",
       "    .dataframe thead th {\n",
       "        text-align: right;\n",
       "    }\n",
       "</style>\n",
       "<table border=\"1\" class=\"dataframe\">\n",
       "  <thead>\n",
       "    <tr style=\"text-align: right;\">\n",
       "      <th></th>\n",
       "      <th>shortName</th>\n",
       "      <th>state</th>\n",
       "      <th>sector</th>\n",
       "      <th>overallRisk</th>\n",
       "      <th>dividendRate</th>\n",
       "      <th>marketCap</th>\n",
       "      <th>enterpriseValue</th>\n",
       "      <th>profitMargins</th>\n",
       "      <th>recommendationKey</th>\n",
       "      <th>totalCash</th>\n",
       "      <th>totalCashPerShare</th>\n",
       "      <th>totalDebt</th>\n",
       "      <th>totalRevenue</th>\n",
       "      <th>revenueGrowth</th>\n",
       "    </tr>\n",
       "  </thead>\n",
       "  <tbody>\n",
       "    <tr>\n",
       "      <th>0</th>\n",
       "      <td>Apple Inc.</td>\n",
       "      <td>CA</td>\n",
       "      <td>Technology</td>\n",
       "      <td>1.0</td>\n",
       "      <td>1.00</td>\n",
       "      <td>3.441752e+12</td>\n",
       "      <td>3.496468e+12</td>\n",
       "      <td>0.26441</td>\n",
       "      <td>buy</td>\n",
       "      <td>6.180100e+10</td>\n",
       "      <td>4.065</td>\n",
       "      <td>1.013040e+11</td>\n",
       "      <td>3.856030e+11</td>\n",
       "      <td>0.049</td>\n",
       "    </tr>\n",
       "    <tr>\n",
       "      <th>1</th>\n",
       "      <td>Microsoft Corporation</td>\n",
       "      <td>WA</td>\n",
       "      <td>Technology</td>\n",
       "      <td>1.0</td>\n",
       "      <td>3.32</td>\n",
       "      <td>3.211891e+12</td>\n",
       "      <td>3.212358e+12</td>\n",
       "      <td>0.35956</td>\n",
       "      <td>buy</td>\n",
       "      <td>7.553100e+10</td>\n",
       "      <td>10.162</td>\n",
       "      <td>9.785200e+10</td>\n",
       "      <td>2.451220e+11</td>\n",
       "      <td>0.152</td>\n",
       "    </tr>\n",
       "    <tr>\n",
       "      <th>2</th>\n",
       "      <td>Alphabet Inc.</td>\n",
       "      <td>CA</td>\n",
       "      <td>Communication Services</td>\n",
       "      <td>NaN</td>\n",
       "      <td>0.80</td>\n",
       "      <td>1.997491e+12</td>\n",
       "      <td>1.942402e+12</td>\n",
       "      <td>0.26702</td>\n",
       "      <td>buy</td>\n",
       "      <td>1.007250e+11</td>\n",
       "      <td>8.182</td>\n",
       "      <td>2.871900e+10</td>\n",
       "      <td>3.282840e+11</td>\n",
       "      <td>0.136</td>\n",
       "    </tr>\n",
       "    <tr>\n",
       "      <th>4</th>\n",
       "      <td>Amazon.com, Inc.</td>\n",
       "      <td>WA</td>\n",
       "      <td>Consumer Cyclical</td>\n",
       "      <td>9.0</td>\n",
       "      <td>NaN</td>\n",
       "      <td>2.020718e+12</td>\n",
       "      <td>2.104470e+12</td>\n",
       "      <td>0.07350</td>\n",
       "      <td>buy</td>\n",
       "      <td>8.909200e+10</td>\n",
       "      <td>8.489</td>\n",
       "      <td>1.578420e+11</td>\n",
       "      <td>6.043340e+11</td>\n",
       "      <td>0.101</td>\n",
       "    </tr>\n",
       "    <tr>\n",
       "      <th>5</th>\n",
       "      <td>Tesla, Inc.</td>\n",
       "      <td>TX</td>\n",
       "      <td>Consumer Cyclical</td>\n",
       "      <td>10.0</td>\n",
       "      <td>NaN</td>\n",
       "      <td>8.210863e+11</td>\n",
       "      <td>7.948912e+11</td>\n",
       "      <td>0.12996</td>\n",
       "      <td>hold</td>\n",
       "      <td>3.072000e+10</td>\n",
       "      <td>9.616</td>\n",
       "      <td>1.251500e+10</td>\n",
       "      <td>9.531800e+10</td>\n",
       "      <td>0.023</td>\n",
       "    </tr>\n",
       "  </tbody>\n",
       "</table>\n",
       "</div>"
      ],
      "text/plain": [
       "               shortName state                  sector  overallRisk  \\\n",
       "0             Apple Inc.    CA              Technology          1.0   \n",
       "1  Microsoft Corporation    WA              Technology          1.0   \n",
       "2          Alphabet Inc.    CA  Communication Services          NaN   \n",
       "4       Amazon.com, Inc.    WA       Consumer Cyclical          9.0   \n",
       "5            Tesla, Inc.    TX       Consumer Cyclical         10.0   \n",
       "\n",
       "   dividendRate     marketCap  enterpriseValue  profitMargins  \\\n",
       "0          1.00  3.441752e+12     3.496468e+12        0.26441   \n",
       "1          3.32  3.211891e+12     3.212358e+12        0.35956   \n",
       "2          0.80  1.997491e+12     1.942402e+12        0.26702   \n",
       "4           NaN  2.020718e+12     2.104470e+12        0.07350   \n",
       "5           NaN  8.210863e+11     7.948912e+11        0.12996   \n",
       "\n",
       "  recommendationKey     totalCash  totalCashPerShare     totalDebt  \\\n",
       "0               buy  6.180100e+10              4.065  1.013040e+11   \n",
       "1               buy  7.553100e+10             10.162  9.785200e+10   \n",
       "2               buy  1.007250e+11              8.182  2.871900e+10   \n",
       "4               buy  8.909200e+10              8.489  1.578420e+11   \n",
       "5              hold  3.072000e+10              9.616  1.251500e+10   \n",
       "\n",
       "   totalRevenue  revenueGrowth  \n",
       "0  3.856030e+11          0.049  \n",
       "1  2.451220e+11          0.152  \n",
       "2  3.282840e+11          0.136  \n",
       "4  6.043340e+11          0.101  \n",
       "5  9.531800e+10          0.023  "
      ]
     },
     "execution_count": 4,
     "metadata": {},
     "output_type": "execute_result"
    }
   ],
   "source": [
    "\n",
    "# delete duplicate rows on 'shortName'\n",
    "df = df.drop_duplicates(subset='shortName')\n",
    "# df = df.drop(columns=['ebitda','totalDebt','totalRevenue'])\n",
    "print(df.shape)\n",
    "df.head()"
   ]
  },
  {
   "cell_type": "markdown",
   "metadata": {},
   "source": [
    "# 3. Export data "
   ]
  },
  {
   "cell_type": "code",
   "execution_count": 5,
   "metadata": {},
   "outputs": [
    {
     "name": "stdout",
     "output_type": "stream",
     "text": [
      "Dataframe saved to USACompanies.csv\n"
     ]
    }
   ],
   "source": [
    "csv_file = 'USACompanies.csv'\n",
    "df.to_csv(csv_file, index=False)\n",
    "print('Dataframe saved to', csv_file)"
   ]
  }
 ],
 "metadata": {
  "kernelspec": {
   "display_name": "Python 3",
   "language": "python",
   "name": "python3"
  },
  "language_info": {
   "codemirror_mode": {
    "name": "ipython",
    "version": 3
   },
   "file_extension": ".py",
   "mimetype": "text/x-python",
   "name": "python",
   "nbconvert_exporter": "python",
   "pygments_lexer": "ipython3",
   "version": "3.12.3"
  }
 },
 "nbformat": 4,
 "nbformat_minor": 2
}
